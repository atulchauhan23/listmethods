{
 "cells": [
  {
   "cell_type": "markdown",
   "id": "ee3bcbf9-35e0-4139-ae1d-1450ea88b2a8",
   "metadata": {},
   "source": [
    "# list methods"
   ]
  },
  {
   "cell_type": "markdown",
   "id": "cca52741-45fd-4352-8e91-e9cb6d5f80b6",
   "metadata": {},
   "source": [
    "# Append(adds an element at the end of the list)"
   ]
  },
  {
   "cell_type": "code",
   "execution_count": 15,
   "id": "2f568358-210a-4bde-99c4-e12f719ebef3",
   "metadata": {},
   "outputs": [],
   "source": [
    "day = ['sunday', 'monday', 'tuesday']\n",
    "day.append('friday')\n"
   ]
  },
  {
   "cell_type": "code",
   "execution_count": 18,
   "id": "02a9131f-f79d-4243-b2e7-45e2ca11e11a",
   "metadata": {},
   "outputs": [
    {
     "name": "stdout",
     "output_type": "stream",
     "text": [
      "['sunday', 'monday', 'tuesday', 'friday']\n"
     ]
    }
   ],
   "source": [
    "print(day)"
   ]
  },
  {
   "cell_type": "markdown",
   "id": "00e490fd-0b8e-4f97-95d5-773257db3765",
   "metadata": {},
   "source": [
    " # Clear(Removes all the elements from the list)\t"
   ]
  },
  {
   "cell_type": "code",
   "execution_count": 26,
   "id": "b88532ab-1219-418e-83c4-90937da20908",
   "metadata": {},
   "outputs": [],
   "source": [
    "day = ['sunday', 'monday', 'tuesday']\n",
    "day.clear()"
   ]
  },
  {
   "cell_type": "code",
   "execution_count": 28,
   "id": "05891bda-8cfd-49c2-90b5-99c4a9c7e326",
   "metadata": {},
   "outputs": [
    {
     "name": "stdout",
     "output_type": "stream",
     "text": [
      "[]\n"
     ]
    }
   ],
   "source": [
    "print(day)"
   ]
  },
  {
   "cell_type": "markdown",
   "id": "149decb8-e0d8-4999-af86-1a239386901f",
   "metadata": {},
   "source": [
    "# Copy(Returns a copy of the list)"
   ]
  },
  {
   "cell_type": "code",
   "execution_count": 31,
   "id": "40ec0591-d85b-4152-b868-3f3fe7c35ee7",
   "metadata": {},
   "outputs": [
    {
     "data": {
      "text/plain": [
       "['sunday', 'monday', 'tuesday']"
      ]
     },
     "execution_count": 31,
     "metadata": {},
     "output_type": "execute_result"
    }
   ],
   "source": [
    "day = ['sunday', 'monday', 'tuesday']\n",
    "day.copy()"
   ]
  },
  {
   "cell_type": "markdown",
   "id": "f627e459-37fd-4d98-a26c-f821b6671715",
   "metadata": {},
   "source": [
    "# Count(Returns the number of elements with the specified value)"
   ]
  },
  {
   "cell_type": "code",
   "execution_count": 35,
   "id": "fd5bc127-8387-4783-9f69-192a3dd8b3aa",
   "metadata": {},
   "outputs": [
    {
     "data": {
      "text/plain": [
       "1"
      ]
     },
     "execution_count": 35,
     "metadata": {},
     "output_type": "execute_result"
    }
   ],
   "source": [
    "day = ['sunday', 'monday', 'tuesday']\n",
    "day.count('monday')"
   ]
  },
  {
   "cell_type": "markdown",
   "id": "9cd97210-fb58-4bbb-a7e4-7e331a88c1bb",
   "metadata": {},
   "source": [
    "# Extend(Add the elements of a list (or any iterable), to the end of the current list)"
   ]
  },
  {
   "cell_type": "code",
   "execution_count": 38,
   "id": "081562f8-705c-47ec-9af9-eac4fcc27add",
   "metadata": {},
   "outputs": [],
   "source": [
    "day = ['sunday', 'monday', 'tuesday']\n",
    "time = ['morning','afternoon','evening']\n",
    "day.extend(time)"
   ]
  },
  {
   "cell_type": "code",
   "execution_count": 40,
   "id": "2b1abc6c-a807-4b12-bcb5-b2e3233ae7f1",
   "metadata": {},
   "outputs": [
    {
     "name": "stdout",
     "output_type": "stream",
     "text": [
      "['sunday', 'monday', 'tuesday', 'morning', 'afternoon', 'evening']\n"
     ]
    }
   ],
   "source": [
    "print(day)"
   ]
  },
  {
   "cell_type": "markdown",
   "id": "55f65839-05de-4766-aaa7-684894dcf31b",
   "metadata": {},
   "source": [
    "# Index(Returns the index of the first element with the specified value)"
   ]
  },
  {
   "cell_type": "code",
   "execution_count": 44,
   "id": "e6049289-ba10-4825-8a11-f786011c773b",
   "metadata": {},
   "outputs": [
    {
     "data": {
      "text/plain": [
       "1"
      ]
     },
     "execution_count": 44,
     "metadata": {},
     "output_type": "execute_result"
    }
   ],
   "source": [
    "day = ['sunday', 'monday', 'tuesday']\n",
    "day.index('monday')"
   ]
  },
  {
   "cell_type": "markdown",
   "id": "7cddd70e-96ea-4cb5-b517-665f04cc09a6",
   "metadata": {},
   "source": [
    "# Insert(Adds an element at the specified position)"
   ]
  },
  {
   "cell_type": "code",
   "execution_count": 47,
   "id": "bcd48fbc-1aa6-4a02-8cdb-8b4f61c36a8c",
   "metadata": {},
   "outputs": [],
   "source": [
    "day = ['sunday', 'monday', 'tuesday']\n",
    "day.insert(1,'friday')"
   ]
  },
  {
   "cell_type": "code",
   "execution_count": 49,
   "id": "41617e48-b834-4e35-b5a9-d7c94806607f",
   "metadata": {},
   "outputs": [
    {
     "name": "stdout",
     "output_type": "stream",
     "text": [
      "['sunday', 'friday', 'monday', 'tuesday']\n"
     ]
    }
   ],
   "source": [
    "print(day)"
   ]
  },
  {
   "cell_type": "markdown",
   "id": "3c915cb0-8fa3-46af-af8b-46dfb3a0c309",
   "metadata": {},
   "source": [
    "# Pop(Removes the element at the specified position)"
   ]
  },
  {
   "cell_type": "code",
   "execution_count": 53,
   "id": "067278c4-2528-4c79-9a15-9a32e2d364ef",
   "metadata": {},
   "outputs": [
    {
     "data": {
      "text/plain": [
       "'monday'"
      ]
     },
     "execution_count": 53,
     "metadata": {},
     "output_type": "execute_result"
    }
   ],
   "source": [
    "day = ['sunday', 'monday', 'tuesday']\n",
    "day.pop(1)"
   ]
  },
  {
   "cell_type": "markdown",
   "id": "79ad1af6-3a11-4306-9847-c425066b9f06",
   "metadata": {},
   "source": [
    "# Remove(removes the first item with the specified value)"
   ]
  },
  {
   "cell_type": "code",
   "execution_count": 56,
   "id": "5179b879-ea00-4321-a2f1-d9c6d7c7b8c7",
   "metadata": {},
   "outputs": [],
   "source": [
    "day = ['sunday', 'monday', 'tuesday']\n",
    "day.remove('monday')"
   ]
  },
  {
   "cell_type": "code",
   "execution_count": 58,
   "id": "d8dd390e-4c83-4ffb-b077-bcee181bcc9d",
   "metadata": {},
   "outputs": [
    {
     "name": "stdout",
     "output_type": "stream",
     "text": [
      "['sunday', 'tuesday']\n"
     ]
    }
   ],
   "source": [
    "print(day)"
   ]
  },
  {
   "cell_type": "markdown",
   "id": "08d39111-979f-47c4-9d96-ec87841aeb00",
   "metadata": {},
   "source": [
    "# Reverse(reverses the order of the list)"
   ]
  },
  {
   "cell_type": "code",
   "execution_count": 61,
   "id": "4f003a06-b6e0-4547-93df-bbfcc687f108",
   "metadata": {},
   "outputs": [],
   "source": [
    "day = ['sunday', 'monday', 'tuesday']\n",
    "day.reverse()"
   ]
  },
  {
   "cell_type": "code",
   "execution_count": 63,
   "id": "3486a6f9-38fb-446f-bbc3-d94bc5c0057c",
   "metadata": {},
   "outputs": [
    {
     "name": "stdout",
     "output_type": "stream",
     "text": [
      "['tuesday', 'monday', 'sunday']\n"
     ]
    }
   ],
   "source": [
    "print(day)"
   ]
  },
  {
   "cell_type": "markdown",
   "id": "11a374fe-f4dd-4b73-9119-e060d9c77723",
   "metadata": {},
   "source": [
    "# Sort(sorts the list)"
   ]
  },
  {
   "cell_type": "code",
   "execution_count": 66,
   "id": "9eb34a81-4555-446e-9162-635131d2ef0c",
   "metadata": {},
   "outputs": [],
   "source": [
    "day = ['sunday', 'monday', 'tuesday']\n",
    "day.sort()"
   ]
  },
  {
   "cell_type": "code",
   "execution_count": 68,
   "id": "d905788b-4238-47ed-8cfc-280be45042e6",
   "metadata": {},
   "outputs": [
    {
     "name": "stdout",
     "output_type": "stream",
     "text": [
      "['monday', 'sunday', 'tuesday']\n"
     ]
    }
   ],
   "source": [
    "print(day)"
   ]
  }
 ],
 "metadata": {
  "kernelspec": {
   "display_name": "Python 3 (ipykernel)",
   "language": "python",
   "name": "python3"
  },
  "language_info": {
   "codemirror_mode": {
    "name": "ipython",
    "version": 3
   },
   "file_extension": ".py",
   "mimetype": "text/x-python",
   "name": "python",
   "nbconvert_exporter": "python",
   "pygments_lexer": "ipython3",
   "version": "3.11.7"
  }
 },
 "nbformat": 4,
 "nbformat_minor": 5
}
